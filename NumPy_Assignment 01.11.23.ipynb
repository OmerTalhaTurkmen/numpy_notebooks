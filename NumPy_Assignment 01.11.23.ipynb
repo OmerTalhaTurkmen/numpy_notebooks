{
 "cells": [
  {
   "cell_type": "markdown",
   "id": "0b956e8b-c012-4b7d-9fe1-be68fe668606",
   "metadata": {},
   "source": [
    "## <font color='green'> <b>Import the numpy package under the name as np & print the numpy version</b><font color='black'>"
   ]
  },
  {
   "cell_type": "code",
   "execution_count": 1,
   "id": "668e8221",
   "metadata": {
    "tags": []
   },
   "outputs": [
    {
     "data": {
      "text/plain": [
       "<module 'numpy.version' from 'C:\\\\Users\\\\talha\\\\anaconda3\\\\Lib\\\\site-packages\\\\numpy\\\\version.py'>"
      ]
     },
     "execution_count": 1,
     "metadata": {},
     "output_type": "execute_result"
    }
   ],
   "source": [
    "import numpy as np\n",
    "np.version"
   ]
  },
  {
   "cell_type": "markdown",
   "id": "8c171220-e212-4057-ad4c-e809ba8961fd",
   "metadata": {},
   "source": [
    "## <font color='green'> <b>Create a null vector of size 10</b><font color='black'>"
   ]
  },
  {
   "cell_type": "code",
   "execution_count": 2,
   "id": "107c7c3b",
   "metadata": {
    "tags": []
   },
   "outputs": [
    {
     "data": {
      "text/plain": [
       "array([0, 0, 0, 0, 0, 0, 0, 0, 0, 0])"
      ]
     },
     "execution_count": 2,
     "metadata": {},
     "output_type": "execute_result"
    }
   ],
   "source": [
    "null_vector = np.zeros(10, dtype=int)\n",
    "null_vector"
   ]
  },
  {
   "cell_type": "markdown",
   "id": "2891b252-a1db-4ab4-a164-47c9cce9a271",
   "metadata": {},
   "source": [
    "## <font color='green'> <b>Create a null vector of size 10 but the fifth value which is 1</b><font color='black'>"
   ]
  },
  {
   "cell_type": "code",
   "execution_count": 25,
   "id": "51e58682",
   "metadata": {},
   "outputs": [
    {
     "data": {
      "text/plain": [
       "array([0., 0., 0., 0., 1., 0., 0., 0., 0., 0.])"
      ]
     },
     "execution_count": 25,
     "metadata": {},
     "output_type": "execute_result"
    }
   ],
   "source": [
    "null_vector_1 = np.zeros(10)\n",
    "null_vector_1[4] = 1\n",
    "null_vector_1"
   ]
  },
  {
   "cell_type": "markdown",
   "id": "491e5318-b216-48d8-8f35-82cd66594408",
   "metadata": {},
   "source": [
    "## <font color='green'> <b>Create a vector with values ranging from 10 to 50</b><font color='black'>"
   ]
  },
  {
   "cell_type": "code",
   "execution_count": 4,
   "id": "36253df9",
   "metadata": {},
   "outputs": [
    {
     "data": {
      "text/plain": [
       "array([10, 11, 12, 13, 14, 15, 16, 17, 18, 19, 20, 21, 22, 23, 24, 25, 26,\n",
       "       27, 28, 29, 30, 31, 32, 33, 34, 35, 36, 37, 38, 39, 40, 41, 42, 43,\n",
       "       44, 45, 46, 47, 48, 49, 50])"
      ]
     },
     "execution_count": 4,
     "metadata": {},
     "output_type": "execute_result"
    }
   ],
   "source": [
    "range_10_to_50 = np.arange(10, 51)\n",
    "range_10_to_50"
   ]
  },
  {
   "cell_type": "markdown",
   "id": "b7818669-03a5-4f61-b08f-b85b8dd94372",
   "metadata": {},
   "source": [
    "## <font color='green'> <b>Reverse a vector (first element becomes last)</b><font color='black'>"
   ]
  },
  {
   "cell_type": "code",
   "execution_count": 5,
   "id": "027a4256",
   "metadata": {
    "tags": []
   },
   "outputs": [
    {
     "data": {
      "text/plain": [
       "array([9, 8, 7, 6, 5, 4, 3, 2, 1, 0])"
      ]
     },
     "execution_count": 5,
     "metadata": {},
     "output_type": "execute_result"
    }
   ],
   "source": [
    "vector = np.arange(10)\n",
    "vector = np.flip(vector) # np.flip function bir array'i siralama olarak tersine döndürür.\n",
    "vector"
   ]
  },
  {
   "cell_type": "markdown",
   "id": "5f4a94e4-596a-4c85-8356-7eb86d6cacbe",
   "metadata": {},
   "source": [
    "## <font color='green'> <b>Create a 3x3 matrix with values ranging from 0 to 9</b><font color='black'>"
   ]
  },
  {
   "cell_type": "code",
   "execution_count": 6,
   "id": "6bc73f48",
   "metadata": {
    "tags": []
   },
   "outputs": [
    {
     "data": {
      "text/plain": [
       "array([[0, 1, 2],\n",
       "       [3, 4, 5],\n",
       "       [6, 7, 8]])"
      ]
     },
     "execution_count": 6,
     "metadata": {},
     "output_type": "execute_result"
    }
   ],
   "source": [
    "matrix = np.arange(9).reshape(3, 3)\n",
    "matrix"
   ]
  },
  {
   "cell_type": "markdown",
   "id": "0df95fd1-f316-4976-849b-756f927f382c",
   "metadata": {},
   "source": [
    "## <font color='green'> <b>Find indices of non­zero elements from [1,2,0,0,4,0]</b><font color='black'>\n",
    "**Extra research is required**"
   ]
  },
  {
   "cell_type": "code",
   "execution_count": 7,
   "id": "95edf755",
   "metadata": {
    "tags": []
   },
   "outputs": [
    {
     "data": {
      "text/plain": [
       "(array([0, 1, 4], dtype=int64),)"
      ]
     },
     "execution_count": 7,
     "metadata": {},
     "output_type": "execute_result"
    }
   ],
   "source": [
    "array_1 = np.array([1,2,0,0,4,0])\n",
    "np.nonzero(array_1) # np.nonzero function bir array icinde bulunan 0 degerlerindeki elemanlarin indexlerini döndürür.\n",
    "\n",
    "# where ile cözüm:\n",
    "\n"
   ]
  },
  {
   "cell_type": "markdown",
   "id": "efc45ac3-9297-4ea0-9fd8-8534c46935e4",
   "metadata": {},
   "source": [
    "## <font color='green'> <b>Create a 3x3 identity matrix</b><font color='black'>\n",
    "Identity matrix, kare matrisler için özel bir türdür. Diagonalindeki tüm elemanlar 1, diğer elemanlar ise 0 olan kare matrisdir."
   ]
  },
  {
   "cell_type": "code",
   "execution_count": 8,
   "id": "bb3b3ade",
   "metadata": {
    "tags": []
   },
   "outputs": [
    {
     "data": {
      "text/plain": [
       "array([[1., 0., 0.],\n",
       "       [0., 1., 0.],\n",
       "       [0., 0., 1.]])"
      ]
     },
     "execution_count": 8,
     "metadata": {},
     "output_type": "execute_result"
    }
   ],
   "source": [
    "matrix = np.eye(3)\n",
    "matrix"
   ]
  },
  {
   "cell_type": "markdown",
   "id": "aa19488a-0613-48f3-8604-4499afe134e8",
   "metadata": {},
   "source": [
    "## <font color='green'> <b>Create a 3x3x3 array with random values</b><font color='black'>"
   ]
  },
  {
   "cell_type": "code",
   "execution_count": 9,
   "id": "0465ead9",
   "metadata": {
    "tags": []
   },
   "outputs": [
    {
     "data": {
      "text/plain": [
       "array([[[0.92721608, 0.46704132, 0.59163215],\n",
       "        [0.58039989, 0.60605189, 0.6015195 ],\n",
       "        [0.18492083, 0.94439647, 0.49285923]],\n",
       "\n",
       "       [[0.29280528, 0.86631605, 0.42048573],\n",
       "        [0.89210633, 0.79650036, 0.14583507],\n",
       "        [0.48481841, 0.4740181 , 0.63275635]],\n",
       "\n",
       "       [[0.88003721, 0.98643978, 0.60146896],\n",
       "        [0.08302594, 0.9696505 , 0.67915954],\n",
       "        [0.87156833, 0.40280547, 0.37839762]]])"
      ]
     },
     "execution_count": 9,
     "metadata": {},
     "output_type": "execute_result"
    }
   ],
   "source": [
    "random_array = np.random.rand(3, 3, 3)\n",
    "random_array"
   ]
  },
  {
   "cell_type": "markdown",
   "id": "456bd772-149a-410a-9c86-04f1b19c6ae1",
   "metadata": {},
   "source": [
    "## <font color='green'> <b>Create a 10x10 array with random values and find the minimum and maximum values</b><font color='black'>"
   ]
  },
  {
   "cell_type": "code",
   "execution_count": 10,
   "id": "ec01322d",
   "metadata": {
    "tags": []
   },
   "outputs": [
    {
     "name": "stdout",
     "output_type": "stream",
     "text": [
      " Array:\n",
      "[[265 382 333 215 311 417 460 403 262 130]\n",
      " [297 183  38 273 200 428 499 211 489 355]\n",
      " [392  89 393 430 484   8 309 205  59 277]\n",
      " [372  48 154 293 112 315 470 148 434 275]\n",
      " [489 464 320 310 159  91 287  38 192 392]\n",
      " [128  68 463 463 322 123 418 187  24 468]\n",
      " [115 135 366 389 399 405 264 309 496  73]\n",
      " [391 116 371  82 319 462 200 174 155 249]\n",
      " [ 59 298  31  77 199 339 281 285 285  95]\n",
      " [444  66  42 138 486 207 211   1 357 360]]\n",
      "\n",
      "Minimum Value: 1\n",
      "Maximum Value: 499\n"
     ]
    }
   ],
   "source": [
    "random_array = np.random.randint(0, 500, 100).reshape(10, 10)\n",
    "print(f\"\"\" Array:\n",
    "{random_array}\n",
    "\n",
    "Minimum Value: {random_array.min()}\n",
    "Maximum Value: {random_array.max()}\"\"\")"
   ]
  },
  {
   "cell_type": "markdown",
   "id": "8cbf0c5f-e2dd-4418-b923-a52bbda70b7e",
   "metadata": {},
   "source": [
    "## <font color='green'> <b>Create a random vector of size 30 and find the mean value</b><font color='black'>"
   ]
  },
  {
   "cell_type": "code",
   "execution_count": 11,
   "id": "625f82b7",
   "metadata": {
    "tags": []
   },
   "outputs": [
    {
     "data": {
      "text/plain": [
       "0.48212247675185044"
      ]
     },
     "execution_count": 11,
     "metadata": {},
     "output_type": "execute_result"
    }
   ],
   "source": [
    "random_vector = np.random.rand(30)\n",
    "random_vector.mean()"
   ]
  },
  {
   "cell_type": "markdown",
   "id": "dcdb4e96",
   "metadata": {},
   "source": [
    "## <font color='green'> <b>How can I create an array with dimensions (6, 7, 8) using arange, and find its last element?</b><font color='black'>"
   ]
  },
  {
   "cell_type": "code",
   "execution_count": 12,
   "id": "844deeaf",
   "metadata": {
    "tags": []
   },
   "outputs": [
    {
     "data": {
      "text/plain": [
       "335"
      ]
     },
     "execution_count": 12,
     "metadata": {},
     "output_type": "execute_result"
    }
   ],
   "source": [
    "fancy_array = np.arange(6 * 7 * 8).reshape(6, 7, 8)\n",
    "fancy_array[-1][-1][-1]\n",
    "fancy_array[-1, -1, -1] # fancy_array[-1, -1, -1] == fancy_array[-1][-1][-1]"
   ]
  },
  {
   "cell_type": "markdown",
   "id": "afc74cce-1589-434f-929e-d4f809eac34d",
   "metadata": {},
   "source": [
    "## <font color='green'> <b>Create a 5x5 matrix with row values ranging from 0 to 5</b><font color='black'>"
   ]
  },
  {
   "cell_type": "code",
   "execution_count": 13,
   "id": "522397f4",
   "metadata": {
    "tags": []
   },
   "outputs": [
    {
     "data": {
      "text/plain": [
       "array([[0, 1, 2, 3, 4],\n",
       "       [0, 1, 2, 3, 4],\n",
       "       [0, 1, 2, 3, 4],\n",
       "       [0, 1, 2, 3, 4],\n",
       "       [0, 1, 2, 3, 4]])"
      ]
     },
     "execution_count": 13,
     "metadata": {},
     "output_type": "execute_result"
    }
   ],
   "source": [
    "array_0_to_5 = np.full((5, 5), np.arange(0, 5))\n",
    "array_0_to_5"
   ]
  },
  {
   "cell_type": "markdown",
   "id": "cbea287c-b2ef-4c94-b4bc-e047ee69abd1",
   "metadata": {},
   "source": [
    "## <font color='green'> <b>Create a vector of size 12 with values ranging from 0 to 1 (excluding 0 and 1)</b><font color='black'>"
   ]
  },
  {
   "cell_type": "code",
   "execution_count": 27,
   "id": "b6caf3c4",
   "metadata": {
    "tags": []
   },
   "outputs": [
    {
     "data": {
      "text/plain": [
       "array([0.45049925, 0.01326496, 0.94220176, 0.56328822, 0.3854165 ,\n",
       "       0.01596625, 0.23089383, 0.24102547, 0.68326352, 0.60999666,\n",
       "       0.83319491, 0.17336465])"
      ]
     },
     "execution_count": 27,
     "metadata": {},
     "output_type": "execute_result"
    }
   ],
   "source": [
    "random_array = np.random.rand(12)\n",
    "random_array\n",
    "# np.linspace(0, 1, 13, endpoint=False)[1:]"
   ]
  },
  {
   "cell_type": "markdown",
   "id": "1dc7d714-45a5-4bc7-a52e-37abe31bfb1f",
   "metadata": {},
   "source": [
    "## <font color='green'> <b>Create a random vector of size 10 and sort it</b><font color='black'>"
   ]
  },
  {
   "cell_type": "code",
   "execution_count": 15,
   "id": "c0a59fbf",
   "metadata": {
    "tags": []
   },
   "outputs": [
    {
     "data": {
      "text/plain": [
       "[12, 20, 28, 52, 61, 68, 77, 85, 94, 97]"
      ]
     },
     "execution_count": 15,
     "metadata": {},
     "output_type": "execute_result"
    }
   ],
   "source": [
    "random_vector = sorted(np.random.randint(1, 100, 10))\n",
    "random_vector"
   ]
  },
  {
   "cell_type": "markdown",
   "id": "0d58bab8-cab1-4318-9405-6e54a17ac346",
   "metadata": {},
   "source": [
    "## <font color='green'> <b>Consider two random array A anb B, check if they are equal</b><font color='black'>\n",
    "**Extra research is required**"
   ]
  },
  {
   "cell_type": "code",
   "execution_count": 16,
   "id": "07d21f6d",
   "metadata": {
    "tags": []
   },
   "outputs": [
    {
     "name": "stdout",
     "output_type": "stream",
     "text": [
      "First Array:\n",
      "[3 1]\n",
      "Second Array:\n",
      "[3 0]\n",
      "They are not equal\n"
     ]
    }
   ],
   "source": [
    "a = np.random.randint(0, 4, 2)\n",
    "b = np.random.randint(0, 4, 2)\n",
    "print(f\"First Array:\\n{a}\")\n",
    "print(f\"Second Array:\\n{b}\")\n",
    "is_equal = np.allclose(a, b) # np.allclose function icerisine girilen arrray lerin elemanlarinin (siralama dahil) esit olup olmadigina bakar.\n",
    " \n",
    "if is_equal:\n",
    "    print(\"They are equal\")\n",
    "else:\n",
    "    print(\"They are not equal\")"
   ]
  },
  {
   "cell_type": "markdown",
   "id": "add060d3-6cca-47eb-8a48-2b9f33227130",
   "metadata": {},
   "source": [
    "## <font color='green'> <b>Generate a random vector of size 10 and replace the maximum value with 0</b><font color='black'>"
   ]
  },
  {
   "cell_type": "code",
   "execution_count": 17,
   "id": "6edc3993",
   "metadata": {
    "tags": []
   },
   "outputs": [
    {
     "name": "stdout",
     "output_type": "stream",
     "text": [
      "Solution 1: \n",
      "\n",
      "[ 2  3 15 21 22 24 52 53 61 72]\n",
      "[ 2  3 15 21 22 24 52 53 61  0]\n",
      "\n",
      "Solution 2: \n",
      "\n",
      "[30 38  2 64 60 21 33 58 22 49]\n",
      "[30 38  2  0 60 21 33 58 22 49]\n"
     ]
    }
   ],
   "source": [
    "np.random.seed(42)\n",
    "\n",
    "# Solution 1:\n",
    "\n",
    "print(\"Solution 1: \\n\")\n",
    "random_vector_1 = np.sort(np.random.randint(1, 75, 10))\n",
    "print(random_vector_1)\n",
    "random_vector_1[-1] = 0\n",
    "print(random_vector_1)\n",
    "\n",
    "# Solution 2:\n",
    "\n",
    "print(\"\\nSolution 2: \\n\")\n",
    "random_vector_2 = np.random.randint(1, 75, 10)\n",
    "print(random_vector_2)\n",
    "random_vector_2[random_vector_2.argmax()] = 0\n",
    "print(random_vector_2)"
   ]
  },
  {
   "cell_type": "markdown",
   "id": "3d99138b-91e6-4d19-9195-1f384a68063b",
   "metadata": {},
   "source": [
    "## <font color='green'> <b>How to find the most frequent value in an array?</b><font color='black'>\n",
    "**Extra research is required**"
   ]
  },
  {
   "cell_type": "code",
   "execution_count": 18,
   "id": "19a6efab",
   "metadata": {
    "tags": []
   },
   "outputs": [
    {
     "name": "stdout",
     "output_type": "stream",
     "text": [
      "The most frequent value in this array is: 5\n",
      "The most frequent value in this array is: 5\n"
     ]
    }
   ],
   "source": [
    "# The first way that comes to my mind:\n",
    "\n",
    "my_array = np.array([3, 2, 5, 1, 4, 5, 7, 8, 2, 5, 2, 1, 5, 1, 6])\n",
    "empty_dict = {}\n",
    "most_freq_value = \"\"\n",
    "\n",
    "for i in my_array:\n",
    "    if i in empty_dict:\n",
    "        empty_dict[i] += 1\n",
    "    else:\n",
    "        empty_dict[i] = 1\n",
    "\n",
    "val = list(empty_dict.values())[0]\n",
    "\n",
    "for i, j in empty_dict.items():\n",
    "    if j > val:\n",
    "        val = j\n",
    "        most_freq_value = i\n",
    "        \n",
    "print(f\"The most frequent value in this array is: {most_freq_value}\")\n",
    "\n",
    "# Second way with NumPy:\n",
    "\n",
    "my_array = np.array([3, 2, 5, 1, 4, 5, 7, 8, 2, 5, 2, 1, 5, 1, 6])\n",
    "most_freq_value = np.bincount(my_array).argmax()\n",
    "print(f\"The most frequent value in this array is: {most_freq_value}\")"
   ]
  },
  {
   "cell_type": "markdown",
   "id": "643742e8",
   "metadata": {},
   "source": [
    "## <font color='green'> <b>Create a 2d array with 1 on the border and 0 inside</b><font color='black'>"
   ]
  },
  {
   "cell_type": "code",
   "execution_count": 19,
   "id": "affc3c2a",
   "metadata": {
    "tags": []
   },
   "outputs": [
    {
     "data": {
      "text/plain": [
       "array([[1, 1, 1, 1, 1],\n",
       "       [1, 0, 0, 0, 1],\n",
       "       [1, 0, 0, 0, 1],\n",
       "       [1, 0, 0, 0, 1],\n",
       "       [1, 0, 0, 0, 1],\n",
       "       [1, 1, 1, 1, 1]])"
      ]
     },
     "execution_count": 19,
     "metadata": {},
     "output_type": "execute_result"
    }
   ],
   "source": [
    "arr = np.zeros((6, 5), dtype=int)\n",
    "arr[[0, -1]] = 1\n",
    "arr[:,[0, -1]] = 1\n",
    "arr"
   ]
  },
  {
   "cell_type": "markdown",
   "id": "823dbb42",
   "metadata": {},
   "source": [
    "## <font color='green'> <b>Create a 5x5 matrix with values 1,2,3,4 just below the diagonal</b><font color='black'>\n",
    "**Extra research may be required**"
   ]
  },
  {
   "attachments": {
    "image.png": {
     "image/png": "[encoded data removed]"
    }
   },
   "cell_type": "markdown",
   "id": "e65c7127",
   "metadata": {},
   "source": [
    "![image.png](attachment:image.png)"
   ]
  },
  {
   "cell_type": "code",
   "execution_count": 20,
   "id": "7b368d01",
   "metadata": {
    "tags": []
   },
   "outputs": [
    {
     "data": {
      "text/plain": [
       "array([[0, 0, 0, 0, 0],\n",
       "       [1, 0, 0, 0, 0],\n",
       "       [0, 2, 0, 0, 0],\n",
       "       [0, 0, 3, 0, 0],\n",
       "       [0, 0, 0, 4, 0]])"
      ]
     },
     "execution_count": 20,
     "metadata": {},
     "output_type": "execute_result"
    }
   ],
   "source": [
    "arr = np.zeros((5, 5), dtype=int)\n",
    "arr[[1, 2, 3, 4], [0, 1, 2, 3]] = np.arange(1, 5)\n",
    "arr\n",
    "\n",
    "# arr = np.diag([1, 2, 3, 4], k=-1)\n",
    "# a = np.eye(5, k=-1) * np.array([1, 2, 3, 4])"
   ]
  },
  {
   "cell_type": "markdown",
   "id": "19b54bac",
   "metadata": {},
   "source": [
    "## <font color='green'> <b>Create a 8x8 matrix and fill it with a checkerboard pattern</b><font color='black'>"
   ]
  },
  {
   "attachments": {
    "image.png": {
     "image/png": "[encoded data removed]"
    }
   },
   "cell_type": "markdown",
   "id": "2ce4419c",
   "metadata": {},
   "source": [
    "![image.png](attachment:image.png)"
   ]
  },
  {
   "cell_type": "code",
   "execution_count": 21,
   "id": "d51e25f9",
   "metadata": {
    "tags": []
   },
   "outputs": [
    {
     "data": {
      "text/plain": [
       "array([[0, 1, 0, 1, 0, 1, 0, 1],\n",
       "       [1, 0, 1, 0, 1, 0, 1, 0],\n",
       "       [0, 1, 0, 1, 0, 1, 0, 1],\n",
       "       [1, 0, 1, 0, 1, 0, 1, 0],\n",
       "       [0, 1, 0, 1, 0, 1, 0, 1],\n",
       "       [1, 0, 1, 0, 1, 0, 1, 0],\n",
       "       [0, 1, 0, 1, 0, 1, 0, 1],\n",
       "       [1, 0, 1, 0, 1, 0, 1, 0]])"
      ]
     },
     "execution_count": 21,
     "metadata": {},
     "output_type": "execute_result"
    }
   ],
   "source": [
    "arr = np.zeros((8, 8), dtype=int)\n",
    "arr[::2, 1::2] = 1\n",
    "arr[1::2, ::2] = 1\n",
    "arr"
   ]
  },
  {
   "cell_type": "markdown",
   "id": "50007555",
   "metadata": {},
   "source": [
    "## <font color='green'> <b>Create a checkerboard 8x8 matrix using the tile function</b><font color='black'>\n",
    "**Extra research is required**"
   ]
  },
  {
   "cell_type": "code",
   "execution_count": 22,
   "id": "3aba5dc2",
   "metadata": {
    "tags": []
   },
   "outputs": [
    {
     "data": {
      "text/plain": [
       "array([[0, 1, 0, 1, 0, 1, 0, 1],\n",
       "       [1, 0, 1, 0, 1, 0, 1, 0],\n",
       "       [0, 1, 0, 1, 0, 1, 0, 1],\n",
       "       [1, 0, 1, 0, 1, 0, 1, 0],\n",
       "       [0, 1, 0, 1, 0, 1, 0, 1],\n",
       "       [1, 0, 1, 0, 1, 0, 1, 0],\n",
       "       [0, 1, 0, 1, 0, 1, 0, 1],\n",
       "       [1, 0, 1, 0, 1, 0, 1, 0]])"
      ]
     },
     "execution_count": 22,
     "metadata": {},
     "output_type": "execute_result"
    }
   ],
   "source": [
    "arr = np.array([[0, 1], [1, 0]])\n",
    "np.tile(arr, (4, 4))"
   ]
  },
  {
   "cell_type": "code",
   "execution_count": 23,
   "id": "1342dd70-4658-4953-978f-619780c9afd5",
   "metadata": {
    "tags": []
   },
   "outputs": [
    {
     "data": {
      "text/plain": [
       "array([[ 0,  1,  2,  3,  4,  5,  6,  7,  8,  9],\n",
       "       [10, 11, 12, 13, 14, 15, 16, 17, 18, 19],\n",
       "       [20, 21, 22, 23, 24, 25, 26, 27, 28, 29],\n",
       "       [30, 31, 32, 33, 34, 35, 36, 37, 38, 39],\n",
       "       [40, 41, 42, 43, 44, 45, 46, 47, 48, 49]])"
      ]
     },
     "execution_count": 23,
     "metadata": {},
     "output_type": "execute_result"
    }
   ],
   "source": [
    "arr = np.arange(50).reshape(5, 10)\n",
    "arr"
   ]
  },
  {
   "cell_type": "code",
   "execution_count": 24,
   "id": "13728c66-23ee-48cb-bc10-03b60e25d790",
   "metadata": {
    "tags": []
   },
   "outputs": [
    {
     "data": {
      "text/plain": [
       "array([[21, 22, 25, 26, 28, 29],\n",
       "       [31, 32, 35, 36, 38, 39],\n",
       "       [41, 42, 45, 46, 48, 49]])"
      ]
     },
     "execution_count": 24,
     "metadata": {},
     "output_type": "execute_result"
    }
   ],
   "source": [
    "arr[2:,[1,2,5,6,8,9]]"
   ]
  }
 ],
 "metadata": {
  "hide_input": false,
  "kernelspec": {
   "display_name": "Python 3 (ipykernel)",
   "language": "python",
   "name": "python3"
  },
  "language_info": {
   "codemirror_mode": {
    "name": "ipython",
    "version": 3
   },
   "file_extension": ".py",
   "mimetype": "text/x-python",
   "name": "python",
   "nbconvert_exporter": "python",
   "pygments_lexer": "ipython3",
   "version": "3.11.5"
  },
  "toc": {
   "base_numbering": 1,
   "nav_menu": {},
   "number_sections": true,
   "sideBar": true,
   "skip_h1_title": false,
   "title_cell": "Table of Contents",
   "title_sidebar": "Contents",
   "toc_cell": false,
   "toc_position": {
    "height": "calc(100% - 180px)",
    "left": "10px",
    "top": "150px",
    "width": "384px"
   },
   "toc_section_display": true,
   "toc_window_display": true
  },
  "varInspector": {
   "cols": {
    "lenName": 16,
    "lenType": 16,
    "lenVar": 40
   },
   "kernels_config": {
    "python": {
     "delete_cmd_postfix": "",
     "delete_cmd_prefix": "del ",
     "library": "var_list.py",
     "varRefreshCmd": "print(var_dic_list())"
    },
    "r": {
     "delete_cmd_postfix": ") ",
     "delete_cmd_prefix": "rm(",
     "library": "var_list.r",
     "varRefreshCmd": "cat(var_dic_list()) "
    }
   },
   "types_to_exclude": [
    "module",
    "function",
    "builtin_function_or_method",
    "instance",
    "_Feature"
   ],
   "window_display": false
  }
 },
 "nbformat": 4,
 "nbformat_minor": 5
}
